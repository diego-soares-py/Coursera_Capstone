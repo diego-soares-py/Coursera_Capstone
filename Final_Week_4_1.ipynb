{
 "cells": [
  {
   "cell_type": "markdown",
   "metadata": {},
   "source": [
    "<h1 align=center><font size = 5>Natal Bars's</font></h1>"
   ]
  },
  {
   "cell_type": "markdown",
   "metadata": {},
   "source": [
    "## Introduction\n",
    "\n",
    "This work uses machine learning techniques with a language python and several libraries, associated with the Foursquere API to analyze the location of bars in the city of Natal-RN located in Brazil. Also, you will learn how to use the visualization library, Folium, to visualize the results"
   ]
  },
  {
   "cell_type": "markdown",
   "metadata": {},
   "source": []
  },
  {
   "cell_type": "markdown",
   "metadata": {},
   "source": [
    "## Business Problem\n",
    "We all know that here in Brazil we like parties and bars, in the capital of the state of Rio Grande do Norte called Natal is no different. However, as in all of Brazil, Natal has no growth plan and there are several parts of the city that can be good or bad to open a business, since this neighborhood or region may be saturated with a certain type of business. Returning to the subject of bar, we can see what is the best region or neighborhood to open a new establishment of this type, and in this context we can reach our question for the Data Science journey, “Where can I open a new bar in Natal-RN ? ” The idea here is to look for the neighborhood where there are fewer bars installed, using the aforementioned techniques.\n"
   ]
  },
  {
   "cell_type": "code",
   "execution_count": null,
   "metadata": {},
   "outputs": [],
   "source": []
  }
 ],
 "metadata": {
  "kernelspec": {
   "display_name": "Python 3",
   "language": "python",
   "name": "python3"
  },
  "language_info": {
   "codemirror_mode": {
    "name": "ipython",
    "version": 3
   },
   "file_extension": ".py",
   "mimetype": "text/x-python",
   "name": "python",
   "nbconvert_exporter": "python",
   "pygments_lexer": "ipython3",
   "version": "3.7.6"
  }
 },
 "nbformat": 4,
 "nbformat_minor": 4
}
